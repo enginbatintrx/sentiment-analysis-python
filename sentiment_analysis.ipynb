{
 "cells": [
  {
   "cell_type": "code",
   "execution_count": 1,
   "id": "ad032358-fd69-4be7-b30c-949ce91ec64a",
   "metadata": {},
   "outputs": [],
   "source": [
    "import pandas as pd\n",
    "testdata = pd.read_csv(\"test.csv\")\n",
    "traindata = pd.read_csv(\"train.csv\")"
   ]
  },
  {
   "cell_type": "code",
   "execution_count": 2,
   "id": "2aef50b7-296b-4656-b3f9-54db566feeb5",
   "metadata": {},
   "outputs": [],
   "source": [
    "data = pd.concat([traindata,testdata])\n",
    "data = data.sample(frac=0.02).reset_index(drop=True)"
   ]
  },
  {
   "cell_type": "code",
   "execution_count": 3,
   "id": "2ca9de6c-ba84-4cd8-874e-9db64ec76c80",
   "metadata": {},
   "outputs": [
    {
     "data": {
      "text/html": [
       "<div>\n",
       "<style scoped>\n",
       "    .dataframe tbody tr th:only-of-type {\n",
       "        vertical-align: middle;\n",
       "    }\n",
       "\n",
       "    .dataframe tbody tr th {\n",
       "        vertical-align: top;\n",
       "    }\n",
       "\n",
       "    .dataframe thead th {\n",
       "        text-align: right;\n",
       "    }\n",
       "</style>\n",
       "<table border=\"1\" class=\"dataframe\">\n",
       "  <thead>\n",
       "    <tr style=\"text-align: right;\">\n",
       "      <th></th>\n",
       "      <th>text</th>\n",
       "      <th>label</th>\n",
       "    </tr>\n",
       "  </thead>\n",
       "  <tbody>\n",
       "    <tr>\n",
       "      <th>0</th>\n",
       "      <td>Ancak buna rağmen Irak’ın işgaline karşı durmu...</td>\n",
       "      <td>Notr</td>\n",
       "    </tr>\n",
       "    <tr>\n",
       "      <th>1</th>\n",
       "      <td>uzun süredir bu ürünü kullanıyorum, kullanmaya...</td>\n",
       "      <td>Positive</td>\n",
       "    </tr>\n",
       "    <tr>\n",
       "      <th>2</th>\n",
       "      <td>çok güzel bir tatil geçirdik otel patronları o...</td>\n",
       "      <td>Positive</td>\n",
       "    </tr>\n",
       "    <tr>\n",
       "      <th>3</th>\n",
       "      <td>ürünü cuma günü sipariş ettim pazartesi elimde...</td>\n",
       "      <td>Positive</td>\n",
       "    </tr>\n",
       "    <tr>\n",
       "      <th>4</th>\n",
       "      <td>Köy statüsünde olmasına rağmen Karabük şehrine...</td>\n",
       "      <td>Notr</td>\n",
       "    </tr>\n",
       "    <tr>\n",
       "      <th>...</th>\n",
       "      <td>...</td>\n",
       "      <td>...</td>\n",
       "    </tr>\n",
       "    <tr>\n",
       "      <th>9788</th>\n",
       "      <td>Tefal ismine güvenerek aldım.. ilk çalıştırma ...</td>\n",
       "      <td>Negative</td>\n",
       "    </tr>\n",
       "    <tr>\n",
       "      <th>9789</th>\n",
       "      <td>Kural kısa sürede internet fenomeni haline gel...</td>\n",
       "      <td>Notr</td>\n",
       "    </tr>\n",
       "    <tr>\n",
       "      <th>9790</th>\n",
       "      <td>adının hakkını veriyor, gerçekten mükemmel</td>\n",
       "      <td>Positive</td>\n",
       "    </tr>\n",
       "    <tr>\n",
       "      <th>9791</th>\n",
       "      <td>Bu albümü kendi hayranlarından oluşturduğu dağ...</td>\n",
       "      <td>Notr</td>\n",
       "    </tr>\n",
       "    <tr>\n",
       "      <th>9792</th>\n",
       "      <td>3.5 ay oldu rowenta süpürge aldım. Ömrüm boyun...</td>\n",
       "      <td>Negative</td>\n",
       "    </tr>\n",
       "  </tbody>\n",
       "</table>\n",
       "<p>9793 rows × 2 columns</p>\n",
       "</div>"
      ],
      "text/plain": [
       "                                                   text     label\n",
       "0     Ancak buna rağmen Irak’ın işgaline karşı durmu...      Notr\n",
       "1     uzun süredir bu ürünü kullanıyorum, kullanmaya...  Positive\n",
       "2     çok güzel bir tatil geçirdik otel patronları o...  Positive\n",
       "3     ürünü cuma günü sipariş ettim pazartesi elimde...  Positive\n",
       "4     Köy statüsünde olmasına rağmen Karabük şehrine...      Notr\n",
       "...                                                 ...       ...\n",
       "9788  Tefal ismine güvenerek aldım.. ilk çalıştırma ...  Negative\n",
       "9789  Kural kısa sürede internet fenomeni haline gel...      Notr\n",
       "9790         adının hakkını veriyor, gerçekten mükemmel  Positive\n",
       "9791  Bu albümü kendi hayranlarından oluşturduğu dağ...      Notr\n",
       "9792  3.5 ay oldu rowenta süpürge aldım. Ömrüm boyun...  Negative\n",
       "\n",
       "[9793 rows x 2 columns]"
      ]
     },
     "execution_count": 3,
     "metadata": {},
     "output_type": "execute_result"
    }
   ],
   "source": [
    "data.drop(labels=[\"dataset\"], axis=1)"
   ]
  },
  {
   "cell_type": "code",
   "execution_count": 4,
   "id": "063bd3e5-b421-40ef-b97e-4bb1fccd09a4",
   "metadata": {},
   "outputs": [
    {
     "data": {
      "text/plain": [
       "label\n",
       "Positive    5241\n",
       "Notr        3409\n",
       "Negative    1143\n",
       "Name: count, dtype: int64"
      ]
     },
     "execution_count": 4,
     "metadata": {},
     "output_type": "execute_result"
    }
   ],
   "source": [
    "data[\"label\"].value_counts()"
   ]
  },
  {
   "cell_type": "code",
   "execution_count": 5,
   "id": "68c8c75b-0919-4f24-9f59-fedb737f0d6a",
   "metadata": {},
   "outputs": [],
   "source": [
    "import string\n",
    "import re\n",
    "import nltk\n",
    "from nltk.corpus import stopwords\n",
    "\n",
    "noktalama = string.punctuation\n",
    "etkisiz = stopwords.words('turkish')"
   ]
  },
  {
   "cell_type": "code",
   "execution_count": 6,
   "id": "906970a9-87fa-44d9-b7da-04e959468576",
   "metadata": {},
   "outputs": [],
   "source": [
    "def etkisizTemizleme(metin):\n",
    "    temp = ''\n",
    "    for word in metin.split():\n",
    "        if word not in etkisiz and not word.isnumeric():\n",
    "            temp += word + ' '\n",
    "    #print(temp + \"\\n***************************\")\n",
    "    return temp\n",
    "    \n",
    "\n",
    "def noktaTemizleme(metin):\n",
    "    temp = ''\n",
    "    for word in metin:\n",
    "        if word not in noktalama:\n",
    "            temp += word\n",
    "    #print(temp + \"\\n***************************\")\n",
    "    d = temp\n",
    "    return d"
   ]
  },
  {
   "cell_type": "code",
   "execution_count": 7,
   "id": "bbb5262a-0f24-4071-92c1-f7671a20804f",
   "metadata": {},
   "outputs": [],
   "source": [
    "data[\"text2\"] = data[\"text\"].apply(etkisizTemizleme)"
   ]
  },
  {
   "cell_type": "code",
   "execution_count": 8,
   "id": "511ced4b-b1a7-4029-a4b0-1b0d5def9e67",
   "metadata": {},
   "outputs": [],
   "source": [
    "data[\"text3\"] = data[\"text2\"].apply(noktaTemizleme)"
   ]
  },
  {
   "cell_type": "code",
   "execution_count": 9,
   "id": "a874bed8-a7d3-4361-b0df-9e80192d7883",
   "metadata": {},
   "outputs": [
    {
     "data": {
      "text/html": [
       "<div>\n",
       "<style scoped>\n",
       "    .dataframe tbody tr th:only-of-type {\n",
       "        vertical-align: middle;\n",
       "    }\n",
       "\n",
       "    .dataframe tbody tr th {\n",
       "        vertical-align: top;\n",
       "    }\n",
       "\n",
       "    .dataframe thead th {\n",
       "        text-align: right;\n",
       "    }\n",
       "</style>\n",
       "<table border=\"1\" class=\"dataframe\">\n",
       "  <thead>\n",
       "    <tr style=\"text-align: right;\">\n",
       "      <th></th>\n",
       "      <th>text</th>\n",
       "      <th>label</th>\n",
       "      <th>dataset</th>\n",
       "      <th>text2</th>\n",
       "      <th>text3</th>\n",
       "    </tr>\n",
       "  </thead>\n",
       "  <tbody>\n",
       "    <tr>\n",
       "      <th>0</th>\n",
       "      <td>Ancak buna rağmen Irak’ın işgaline karşı durmu...</td>\n",
       "      <td>Notr</td>\n",
       "      <td>wiki</td>\n",
       "      <td>Ancak buna rağmen Irak’ın işgaline karşı durmu...</td>\n",
       "      <td>Ancak buna rağmen Irak’ın işgaline karşı durmu...</td>\n",
       "    </tr>\n",
       "    <tr>\n",
       "      <th>1</th>\n",
       "      <td>uzun süredir bu ürünü kullanıyorum, kullanmaya...</td>\n",
       "      <td>Positive</td>\n",
       "      <td>urun_yorumlari</td>\n",
       "      <td>uzun süredir ürünü kullanıyorum, kullanmaya ba...</td>\n",
       "      <td>uzun süredir ürünü kullanıyorum kullanmaya baş...</td>\n",
       "    </tr>\n",
       "    <tr>\n",
       "      <th>2</th>\n",
       "      <td>çok güzel bir tatil geçirdik otel patronları o...</td>\n",
       "      <td>Positive</td>\n",
       "      <td>HUMIR</td>\n",
       "      <td>güzel bir tatil geçirdik otel patronları olsun...</td>\n",
       "      <td>güzel bir tatil geçirdik otel patronları olsun...</td>\n",
       "    </tr>\n",
       "    <tr>\n",
       "      <th>3</th>\n",
       "      <td>ürünü cuma günü sipariş ettim pazartesi elimde...</td>\n",
       "      <td>Positive</td>\n",
       "      <td>urun_yorumlari</td>\n",
       "      <td>ürünü cuma günü sipariş ettim pazartesi elimde...</td>\n",
       "      <td>ürünü cuma günü sipariş ettim pazartesi elimde...</td>\n",
       "    </tr>\n",
       "    <tr>\n",
       "      <th>4</th>\n",
       "      <td>Köy statüsünde olmasına rağmen Karabük şehrine...</td>\n",
       "      <td>Notr</td>\n",
       "      <td>wiki</td>\n",
       "      <td>Köy statüsünde olmasına rağmen Karabük şehrine...</td>\n",
       "      <td>Köy statüsünde olmasına rağmen Karabük şehrine...</td>\n",
       "    </tr>\n",
       "  </tbody>\n",
       "</table>\n",
       "</div>"
      ],
      "text/plain": [
       "                                                text     label  \\\n",
       "0  Ancak buna rağmen Irak’ın işgaline karşı durmu...      Notr   \n",
       "1  uzun süredir bu ürünü kullanıyorum, kullanmaya...  Positive   \n",
       "2  çok güzel bir tatil geçirdik otel patronları o...  Positive   \n",
       "3  ürünü cuma günü sipariş ettim pazartesi elimde...  Positive   \n",
       "4  Köy statüsünde olmasına rağmen Karabük şehrine...      Notr   \n",
       "\n",
       "          dataset                                              text2  \\\n",
       "0            wiki  Ancak buna rağmen Irak’ın işgaline karşı durmu...   \n",
       "1  urun_yorumlari  uzun süredir ürünü kullanıyorum, kullanmaya ba...   \n",
       "2           HUMIR  güzel bir tatil geçirdik otel patronları olsun...   \n",
       "3  urun_yorumlari  ürünü cuma günü sipariş ettim pazartesi elimde...   \n",
       "4            wiki  Köy statüsünde olmasına rağmen Karabük şehrine...   \n",
       "\n",
       "                                               text3  \n",
       "0  Ancak buna rağmen Irak’ın işgaline karşı durmu...  \n",
       "1  uzun süredir ürünü kullanıyorum kullanmaya baş...  \n",
       "2  güzel bir tatil geçirdik otel patronları olsun...  \n",
       "3  ürünü cuma günü sipariş ettim pazartesi elimde...  \n",
       "4  Köy statüsünde olmasına rağmen Karabük şehrine...  "
      ]
     },
     "execution_count": 9,
     "metadata": {},
     "output_type": "execute_result"
    }
   ],
   "source": [
    "data.head()"
   ]
  },
  {
   "cell_type": "code",
   "execution_count": 10,
   "id": "0b38d819-3ea8-4dbd-bca1-85e8e89f8290",
   "metadata": {},
   "outputs": [],
   "source": [
    "newData = data.drop([\"text2\",\"dataset\",\"text\"],axis=1)"
   ]
  },
  {
   "cell_type": "code",
   "execution_count": 11,
   "id": "26e37fb7-e949-4870-8095-1c4b754449c7",
   "metadata": {},
   "outputs": [
    {
     "data": {
      "text/html": [
       "<div>\n",
       "<style scoped>\n",
       "    .dataframe tbody tr th:only-of-type {\n",
       "        vertical-align: middle;\n",
       "    }\n",
       "\n",
       "    .dataframe tbody tr th {\n",
       "        vertical-align: top;\n",
       "    }\n",
       "\n",
       "    .dataframe thead th {\n",
       "        text-align: right;\n",
       "    }\n",
       "</style>\n",
       "<table border=\"1\" class=\"dataframe\">\n",
       "  <thead>\n",
       "    <tr style=\"text-align: right;\">\n",
       "      <th></th>\n",
       "      <th>label</th>\n",
       "      <th>text3</th>\n",
       "    </tr>\n",
       "  </thead>\n",
       "  <tbody>\n",
       "    <tr>\n",
       "      <th>0</th>\n",
       "      <td>Notr</td>\n",
       "      <td>Ancak buna rağmen Irak’ın işgaline karşı durmu...</td>\n",
       "    </tr>\n",
       "    <tr>\n",
       "      <th>1</th>\n",
       "      <td>Positive</td>\n",
       "      <td>uzun süredir ürünü kullanıyorum kullanmaya baş...</td>\n",
       "    </tr>\n",
       "    <tr>\n",
       "      <th>2</th>\n",
       "      <td>Positive</td>\n",
       "      <td>güzel bir tatil geçirdik otel patronları olsun...</td>\n",
       "    </tr>\n",
       "    <tr>\n",
       "      <th>3</th>\n",
       "      <td>Positive</td>\n",
       "      <td>ürünü cuma günü sipariş ettim pazartesi elimde...</td>\n",
       "    </tr>\n",
       "    <tr>\n",
       "      <th>4</th>\n",
       "      <td>Notr</td>\n",
       "      <td>Köy statüsünde olmasına rağmen Karabük şehrine...</td>\n",
       "    </tr>\n",
       "  </tbody>\n",
       "</table>\n",
       "</div>"
      ],
      "text/plain": [
       "      label                                              text3\n",
       "0      Notr  Ancak buna rağmen Irak’ın işgaline karşı durmu...\n",
       "1  Positive  uzun süredir ürünü kullanıyorum kullanmaya baş...\n",
       "2  Positive  güzel bir tatil geçirdik otel patronları olsun...\n",
       "3  Positive  ürünü cuma günü sipariş ettim pazartesi elimde...\n",
       "4      Notr  Köy statüsünde olmasına rağmen Karabük şehrine..."
      ]
     },
     "execution_count": 11,
     "metadata": {},
     "output_type": "execute_result"
    }
   ],
   "source": [
    "newData.head()"
   ]
  },
  {
   "cell_type": "code",
   "execution_count": 12,
   "id": "5bf12447-63b8-4374-b0bf-c7a2d57ac5dd",
   "metadata": {},
   "outputs": [],
   "source": [
    "from sklearn.model_selection import train_test_split\n",
    "X_train, X_test, y_train, y_test = train_test_split(newData[\"text3\"].values,newData[\"label\"],test_size=0.1)"
   ]
  },
  {
   "cell_type": "code",
   "execution_count": 13,
   "id": "b1e885b7-bdfb-4fc1-937f-63e7952ebb1a",
   "metadata": {},
   "outputs": [
    {
     "data": {
      "text/plain": [
       "(8813,)"
      ]
     },
     "execution_count": 13,
     "metadata": {},
     "output_type": "execute_result"
    }
   ],
   "source": [
    "X_train.shape"
   ]
  },
  {
   "cell_type": "code",
   "execution_count": 14,
   "id": "1e547736-4e61-46b2-973b-074a3cd6e5c4",
   "metadata": {},
   "outputs": [
    {
     "data": {
      "text/plain": [
       "(980,)"
      ]
     },
     "execution_count": 14,
     "metadata": {},
     "output_type": "execute_result"
    }
   ],
   "source": [
    "X_test.shape"
   ]
  },
  {
   "cell_type": "code",
   "execution_count": 15,
   "id": "207bc1f7-c605-473b-917d-25df15c9b338",
   "metadata": {},
   "outputs": [
    {
     "data": {
      "text/plain": [
       "(8813, 38296)"
      ]
     },
     "execution_count": 15,
     "metadata": {},
     "output_type": "execute_result"
    }
   ],
   "source": [
    "#Sayma vektörlerini oluşturuyoruz\n",
    "from sklearn.feature_extraction.text import CountVectorizer\n",
    "count_vect = CountVectorizer()\n",
    "X_train_counts = count_vect.fit_transform(X_train)\n",
    "X_train_counts.shape"
   ]
  },
  {
   "cell_type": "code",
   "execution_count": 16,
   "id": "e0900e66-9cef-4516-9be7-720b3d9d1ef9",
   "metadata": {},
   "outputs": [
    {
     "data": {
      "text/plain": [
       "(8813, 38296)"
      ]
     },
     "execution_count": 16,
     "metadata": {},
     "output_type": "execute_result"
    }
   ],
   "source": [
    "#Sayma vektörlerini tf_idf vektörlerine çeviriyoruz\n",
    "from sklearn.feature_extraction.text import TfidfTransformer\n",
    "tfidf_transformer = TfidfTransformer()\n",
    "X_train_tfidf = tfidf_transformer.fit_transform(X_train_counts)\n",
    "X_train_tfidf.shape"
   ]
  },
  {
   "cell_type": "code",
   "execution_count": 17,
   "id": "2ae44b7b-7ff5-403c-ad27-27983e75ff97",
   "metadata": {},
   "outputs": [],
   "source": [
    "#çok modlu naive bayes sınıflandırıcı eğitiyoruz\n",
    "from sklearn.naive_bayes import MultinomialNB\n",
    "clf = MultinomialNB().fit(X_train_tfidf,y_train)\n",
    "X_test_counts = count_vect.transform(X_test)\n",
    "X_test_tfidf = tfidf_transformer.transform(X_test_counts)"
   ]
  },
  {
   "cell_type": "code",
   "execution_count": 18,
   "id": "e28b4325-ce98-4ee7-9a60-d4f42a0f9a42",
   "metadata": {},
   "outputs": [
    {
     "name": "stdout",
     "output_type": "stream",
     "text": [
      "'Bu harita yeni oyuncuların oyunun amacını anlaması içindir  ' => Notr\n",
      "'günde teslim edildikullanışlı kapı pervazında vidalamaya gerek olmadan takılı şekilde kullanılabiliyor ' => Positive\n",
      "'anlamıyorsanız tür işlerden bulaşmayın derim tam bir başa bela ' => Positive\n",
      "'öncelikle hb teşekkür ederiz verdiği himetten dolayi ürünü yaklaşik yıldır kullanıyorum memnunum hiçbir sorunum olmadı kargo hizmetinde mükemmel tavsiye ederim şimdi kayınvalideme alıyorum sorunsuz bir ürün ' => Positive\n",
      "'1 makinenin çekişi kuvvetli500w ' => Positive\n"
     ]
    }
   ],
   "source": [
    "#Sınıflandırıcı ile test seti üzerinde tahminleme yapıyoruz\n",
    "y_pred = clf.predict(X_test_tfidf)\n",
    "for review, sentiment in zip(X_test[:5],y_pred[:]):\n",
    "    print('%r => %s' % (review, sentiment))"
   ]
  },
  {
   "cell_type": "code",
   "execution_count": 19,
   "id": "9fa926d0-5825-4af9-830f-e79675188a66",
   "metadata": {},
   "outputs": [
    {
     "name": "stdout",
     "output_type": "stream",
     "text": [
      "0.8030612244897959\n"
     ]
    }
   ],
   "source": [
    "from sklearn.metrics import accuracy_score\n",
    "print(accuracy_score(y_test,y_pred))"
   ]
  },
  {
   "cell_type": "code",
   "execution_count": 37,
   "id": "870c28c6-406c-44c1-b359-f4a4281873af",
   "metadata": {},
   "outputs": [],
   "source": [
    "test_metni = [\"Bu nasıl bir cümle?\"]\n",
    "test_count = count_vect.transform(test_metni)\n",
    "test_tfidf = tfidf_transformer.transform(test_count)\n",
    "\n",
    "test_tahmin = clf.predict(test_tfidf)"
   ]
  },
  {
   "cell_type": "code",
   "execution_count": 38,
   "id": "d102e7b3-4c1f-4d36-be19-31b48fd77868",
   "metadata": {},
   "outputs": [
    {
     "data": {
      "text/plain": [
       "array(['Positive'], dtype='<U8')"
      ]
     },
     "execution_count": 38,
     "metadata": {},
     "output_type": "execute_result"
    }
   ],
   "source": [
    "test_tahmin"
   ]
  },
  {
   "cell_type": "code",
   "execution_count": null,
   "id": "570b01d9-1779-488e-9009-754665741e36",
   "metadata": {},
   "outputs": [],
   "source": []
  }
 ],
 "metadata": {
  "kernelspec": {
   "display_name": "Python 3 (ipykernel)",
   "language": "python",
   "name": "python3"
  },
  "language_info": {
   "codemirror_mode": {
    "name": "ipython",
    "version": 3
   },
   "file_extension": ".py",
   "mimetype": "text/x-python",
   "name": "python",
   "nbconvert_exporter": "python",
   "pygments_lexer": "ipython3",
   "version": "3.11.7"
  }
 },
 "nbformat": 4,
 "nbformat_minor": 5
}
